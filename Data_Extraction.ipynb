{
  "nbformat": 4,
  "nbformat_minor": 0,
  "metadata": {
    "colab": {
      "name": "Data_Extraction.ipynb",
      "provenance": [],
      "mount_file_id": "1TrI_7uEr0bv7_dntieY8GSPxlyPQZ1Bf",
      "authorship_tag": "ABX9TyPhvJibDg5BAFyNM8FYsfwX",
      "include_colab_link": true
    },
    "kernelspec": {
      "name": "python3",
      "display_name": "Python 3"
    }
  },
  "cells": [
    {
      "cell_type": "markdown",
      "metadata": {
        "id": "view-in-github",
        "colab_type": "text"
      },
      "source": [
        "<a href=\"https://colab.research.google.com/github/bit2qubit/python_ml_accelerators/blob/master/Data_Extraction.ipynb\" target=\"_parent\"><img src=\"https://colab.research.google.com/assets/colab-badge.svg\" alt=\"Open In Colab\"/></a>"
      ]
    },
    {
      "cell_type": "markdown",
      "metadata": {
        "id": "hkHaw75Al_L5",
        "colab_type": "text"
      },
      "source": [
        "Extracting Data from a csv file"
      ]
    },
    {
      "cell_type": "code",
      "metadata": {
        "id": "7Wgr1LdHsxhR",
        "colab_type": "code",
        "colab": {
          "base_uri": "https://localhost:8080/",
          "height": 51
        },
        "outputId": "2cab6246-eb06-49bd-960d-50be4322ec2c"
      },
      "source": [
        "import pandas as pd\n",
        "df_cal_housing = pd.read_csv('sample_data/california_housing_train.csv')\n",
        "#If you are reading in a windows machine try to read the file path with string literals as below\n",
        "#df_cal_housing = pd.read_csv(r'sample_data/california_housing.csv')\n",
        "print(type(df_cal_housing))\n",
        "print(df_cal_housing.shape)"
      ],
      "execution_count": null,
      "outputs": [
        {
          "output_type": "stream",
          "text": [
            "<class 'pandas.core.frame.DataFrame'>\n",
            "(17000, 9)\n"
          ],
          "name": "stdout"
        }
      ]
    },
    {
      "cell_type": "markdown",
      "metadata": {
        "id": "tf3Zl7Kow1AB",
        "colab_type": "text"
      },
      "source": [
        "Writing the dataframe into a csv and excel"
      ]
    },
    {
      "cell_type": "code",
      "metadata": {
        "id": "jToT4bG0u4gn",
        "colab_type": "code",
        "colab": {}
      },
      "source": [
        "df_cal_housing.to_csv('sample_data/new_cal_file.csv')\n",
        "#Different sheets can be created with different data in a same excel file\n",
        "df_cal_housing.to_excel('sample_data/new_cal_file.xlsx',sheet_name='cal_sheet')"
      ],
      "execution_count": null,
      "outputs": []
    },
    {
      "cell_type": "markdown",
      "metadata": {
        "id": "77JMTNIdmKHL",
        "colab_type": "text"
      },
      "source": [
        "Extracting Data from an excel file"
      ]
    },
    {
      "cell_type": "code",
      "metadata": {
        "id": "R_mEXzF2loWB",
        "colab_type": "code",
        "colab": {
          "base_uri": "https://localhost:8080/",
          "height": 51
        },
        "outputId": "6be8d8c4-ec3f-400c-e600-db8ae10d4438"
      },
      "source": [
        "excel_df = pd.read_excel('sample_data/new_cal_file.xlsx', index_col=0, sheet_name='cal_sheet')\n",
        "print(type(df_cal_housing))\n",
        "print(df_cal_housing.shape)"
      ],
      "execution_count": null,
      "outputs": [
        {
          "output_type": "stream",
          "text": [
            "<class 'pandas.core.frame.DataFrame'>\n",
            "(17000, 9)\n"
          ],
          "name": "stdout"
        }
      ]
    },
    {
      "cell_type": "markdown",
      "metadata": {
        "id": "WXhqgWJrEKRC",
        "colab_type": "text"
      },
      "source": [
        "Setting up a connection to SQL Database"
      ]
    },
    {
      "cell_type": "code",
      "metadata": {
        "id": "6Asr1NTJxpAK",
        "colab_type": "code",
        "colab": {}
      },
      "source": [
        "import pyodbc\n",
        "#Initializing the connection\n",
        "connection_string = (\"Driver={Respective RDBMS driver};\"\n",
        "                      \"Server=serner_name,port_name;\"\n",
        "                      \"Database=Database_name;\"\n",
        "                      \"Trusted_Connection=yes;\"\n",
        "                    )\n",
        "connection=pyodbc.connect(connection_string)"
      ],
      "execution_count": null,
      "outputs": []
    },
    {
      "cell_type": "markdown",
      "metadata": {
        "id": "-5MvwXajGXDg",
        "colab_type": "text"
      },
      "source": [
        "Extracting data from SQL Database"
      ]
    },
    {
      "cell_type": "code",
      "metadata": {
        "id": "qYTAkdrIGah0",
        "colab_type": "code",
        "colab": {}
      },
      "source": [
        "data=pd.read_sql(\"SQL Select Query\", connection)"
      ],
      "execution_count": null,
      "outputs": []
    }
  ]
}